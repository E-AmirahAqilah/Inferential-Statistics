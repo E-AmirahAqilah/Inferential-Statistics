{
 "cells": [
  {
   "cell_type": "markdown",
   "metadata": {},
   "source": [
    "# I. Statistics With R\n",
    "\n",
    "<font color = red>1. Statistics</font><br>\n",
    "- Is a branch of mathematics.\n",
    "- deals with the \n",
    "    - collection, \n",
    "    - analysis, \n",
    "    - interpretation, \n",
    "    - presentation, \n",
    "    - organization of data. \n",
    "    \n",
    "<font color = red>2. Applied Statistics</font><br>\n",
    "- begins with a statistical population or a statistical model process to be studied.\n",
    "- in:\n",
    "    - scientific affairs\n",
    "    - industries\n",
    "    - social problems\n",
    "    \n",
    "======================================================================================"
   ]
  },
  {
   "cell_type": "markdown",
   "metadata": {
    "collapsed": true
   },
   "source": [
    "<font color = red>3. Frequency Table</font><br>\n",
    "- Frequency of a particular data value is the number of times the data value occurs. \n",
    "- e.g., if 8 trainees are MALE and 6 trainees are FEMALE, then the GENDER of MALE and FEMALE are said to have a frequency of 8 and 6, respectively."
   ]
  },
  {
   "cell_type": "code",
   "execution_count": 1,
   "metadata": {},
   "outputs": [
    {
     "data": {
      "text/html": [
       "<table>\n",
       "<thead><tr><th scope=col>Class</th><th scope=col>Sex</th><th scope=col>Age</th><th scope=col>Survived</th><th scope=col>Freq</th></tr></thead>\n",
       "<tbody>\n",
       "\t<tr><td>1st   </td><td>Male  </td><td>Child </td><td>No    </td><td>  0   </td></tr>\n",
       "\t<tr><td>2nd   </td><td>Male  </td><td>Child </td><td>No    </td><td>  0   </td></tr>\n",
       "\t<tr><td>3rd   </td><td>Male  </td><td>Child </td><td>No    </td><td> 35   </td></tr>\n",
       "\t<tr><td>Crew  </td><td>Male  </td><td>Child </td><td>No    </td><td>  0   </td></tr>\n",
       "\t<tr><td>1st   </td><td>Female</td><td>Child </td><td>No    </td><td>  0   </td></tr>\n",
       "\t<tr><td>2nd   </td><td>Female</td><td>Child </td><td>No    </td><td>  0   </td></tr>\n",
       "\t<tr><td>3rd   </td><td>Female</td><td>Child </td><td>No    </td><td> 17   </td></tr>\n",
       "\t<tr><td>Crew  </td><td>Female</td><td>Child </td><td>No    </td><td>  0   </td></tr>\n",
       "\t<tr><td>1st   </td><td>Male  </td><td>Adult </td><td>No    </td><td>118   </td></tr>\n",
       "\t<tr><td>2nd   </td><td>Male  </td><td>Adult </td><td>No    </td><td>154   </td></tr>\n",
       "</tbody>\n",
       "</table>\n"
      ],
      "text/latex": [
       "\\begin{tabular}{r|lllll}\n",
       " Class & Sex & Age & Survived & Freq\\\\\n",
       "\\hline\n",
       "\t 1st    & Male   & Child  & No     &   0   \\\\\n",
       "\t 2nd    & Male   & Child  & No     &   0   \\\\\n",
       "\t 3rd    & Male   & Child  & No     &  35   \\\\\n",
       "\t Crew   & Male   & Child  & No     &   0   \\\\\n",
       "\t 1st    & Female & Child  & No     &   0   \\\\\n",
       "\t 2nd    & Female & Child  & No     &   0   \\\\\n",
       "\t 3rd    & Female & Child  & No     &  17   \\\\\n",
       "\t Crew   & Female & Child  & No     &   0   \\\\\n",
       "\t 1st    & Male   & Adult  & No     & 118   \\\\\n",
       "\t 2nd    & Male   & Adult  & No     & 154   \\\\\n",
       "\\end{tabular}\n"
      ],
      "text/markdown": [
       "\n",
       "Class | Sex | Age | Survived | Freq | \n",
       "|---|---|---|---|---|---|---|---|---|---|\n",
       "| 1st    | Male   | Child  | No     |   0    | \n",
       "| 2nd    | Male   | Child  | No     |   0    | \n",
       "| 3rd    | Male   | Child  | No     |  35    | \n",
       "| Crew   | Male   | Child  | No     |   0    | \n",
       "| 1st    | Female | Child  | No     |   0    | \n",
       "| 2nd    | Female | Child  | No     |   0    | \n",
       "| 3rd    | Female | Child  | No     |  17    | \n",
       "| Crew   | Female | Child  | No     |   0    | \n",
       "| 1st    | Male   | Adult  | No     | 118    | \n",
       "| 2nd    | Male   | Adult  | No     | 154    | \n",
       "\n",
       "\n"
      ],
      "text/plain": [
       "   Class Sex    Age   Survived Freq\n",
       "1  1st   Male   Child No         0 \n",
       "2  2nd   Male   Child No         0 \n",
       "3  3rd   Male   Child No        35 \n",
       "4  Crew  Male   Child No         0 \n",
       "5  1st   Female Child No         0 \n",
       "6  2nd   Female Child No         0 \n",
       "7  3rd   Female Child No        17 \n",
       "8  Crew  Female Child No         0 \n",
       "9  1st   Male   Adult No       118 \n",
       "10 2nd   Male   Adult No       154 "
      ]
     },
     "metadata": {},
     "output_type": "display_data"
    }
   ],
   "source": [
    "# Frequency is available in data as a column\n",
    "titan = as.data.frame(Titanic)\n",
    "head(titan, 10)"
   ]
  },
  {
   "cell_type": "code",
   "execution_count": null,
   "metadata": {},
   "outputs": [],
   "source": [
    "data = data.frame(frequency = c(10, 4, 7, 3, 12), char = letters[1:5])\n",
    "data"
   ]
  },
  {
   "cell_type": "code",
   "execution_count": null,
   "metadata": {},
   "outputs": [],
   "source": [
    "library(lattice)\n",
    "dotchart(data$frequency, groups = data$char,\n",
    "        xlim = c(0, 15),\n",
    "        color = c('red', 'green', 'blue', 'pink', 'brown'))"
   ]
  },
  {
   "cell_type": "code",
   "execution_count": null,
   "metadata": {},
   "outputs": [],
   "source": [
    "library(ggplot2)\n",
    "ggplot(data, aes(x = frequency, y = char, colour = as.factor(char))) + \n",
    "geom_point()+ \n",
    "ggtitle(\"Frequency of Characters\")"
   ]
  },
  {
   "cell_type": "code",
   "execution_count": null,
   "metadata": {},
   "outputs": [],
   "source": [
    "# Frequency is not provided in the data, So we have to obtain it from data\n",
    "head(mtcars)\n",
    "\"=============\"\n",
    "table(mtcars$gear)"
   ]
  },
  {
   "cell_type": "markdown",
   "metadata": {},
   "source": [
    "<font color = red>4. Measure of Center of data</font><br>\n",
    "\n",
    "- Is a value at the center or middle of a data set. \n",
    "- Graphically:\n",
    "    - is viewed as the \"balance point\" of the display. \n",
    "- Algebraically:\n",
    "    - mean :  is the average of all data points\n",
    "    - median : is the middle value\n",
    "    - mode : is the most often occurring value"
   ]
  },
  {
   "cell_type": "code",
   "execution_count": null,
   "metadata": {},
   "outputs": [],
   "source": [
    "data = c(2, 5, 6, 4, 8, 9, 8, 7, 2, 2, 3, 5, 10, 1, 4, 1, 10, 3, 2)\n",
    "mean(data)\n",
    "\"==========\"\n",
    "median(data)\n",
    "data[order(data)]"
   ]
  },
  {
   "cell_type": "code",
   "execution_count": null,
   "metadata": {},
   "outputs": [],
   "source": [
    "# There is no built-in function\n",
    "# So we must implement our own function\n",
    "\n",
    "Mode <- function(x, na.rm = FALSE) {\n",
    "  if(na.rm){\n",
    "    x = x[!is.na(x)]\n",
    "  }\n",
    "  ux <- unique(x)\n",
    "  return(ux[which.max(tabulate(match(x, ux)))])\n",
    "}\n",
    "\n",
    "# Function call for our data\n",
    "Mode(data)"
   ]
  },
  {
   "cell_type": "markdown",
   "metadata": {},
   "source": [
    "<font color = red><b>z-score (Standard Score):</b></font> \n",
    "- Is the number of standard deviations from the mean a data point is. \n",
    "- Technically it's a measure of how many standard deviations below or above the population mean a raw score is.\n",
    "\n",
    "<table><tr><td colspan=2>\n",
    "\\begin{equation*}\n",
    "z=\\frac{\\widehat{p}- p_0 }{\\sqrt{\\frac{p_0 (1- p_0)}{n}}}\n",
    "\\end{equation*}\n",
    "</td></tr><tr><td>\n",
    "    \\begin{equation*}\\widehat{p}\\end{equation*}</td><td> is sample proportion</td><tr><td>\n",
    "    \\begin{equation*}p_{0}\\end{equation*}</td><td> is hypothesize population proportion</td></tr>\n",
    "</table>\n",
    "\n",
    "<table><tr><td colspan=2>\n",
    "\\begin{equation*}\n",
    "z=\\frac{x - μ}{σ}\n",
    "\\end{equation*}\n",
    "</td></tr><tr><td>\n",
    "    μ</td><td> is the mean of the population</td><tr><td>\n",
    "    σ</td><td> is the standard deviation of the population</td></tr></table>\n",
    "    "
   ]
  },
  {
   "cell_type": "code",
   "execution_count": null,
   "metadata": {},
   "outputs": [],
   "source": [
    "#z-score of 9 in data\n",
    "mean(data)\n",
    "sd(data)\n",
    "\"======================\"\n",
    "(9-mean(data))/sd(data)"
   ]
  },
  {
   "cell_type": "markdown",
   "metadata": {},
   "source": [
    "# Exercise 1\n",
    "\n",
    "<font color=blue>Which is the best measure of center for real estate values in a county where there is both inland and lake front property?</font>\n",
    "\n",
    "<font color=red>Since the price of lake front property is considerably higher than inland property, it would represent an outlier. Median is the best representation of this data.</font>"
   ]
  },
  {
   "cell_type": "markdown",
   "metadata": {},
   "source": [
    "\n",
    "# Exercise 2\n",
    "\n",
    "<font color=blue>Which is the best measure of center for a company where 100 employees earn 5000 USD per year and the CEO makes $2,000,000 per year?</font>\n",
    "\n",
    "<font color=red>The CEO would be considered an outlier and skew the mean high. When representing the employees, the mode would be the best choice.</font>\n",
    "\n",
    "============================================================================================="
   ]
  },
  {
   "cell_type": "markdown",
   "metadata": {},
   "source": [
    "<font color = red>5. Measure of Variability</font><br>\n",
    "\n",
    "- It's very important to be able to describe the amount of variability or spread in a set of data. \n",
    "- Measures of variability:\n",
    "\n",
    "    - range<br><br>\n",
    "    \n",
    "    - interquartile range (IQR):\n",
    "        - Quartiles divide a rank-ordered data set into four equal parts. \n",
    "        - The values that divide each part are called the first, second, and third quartile\n",
    "        - they are denoted by Q1, Q2, and Q3, respectively.<br><br>\n",
    "        \n",
    "    - variance:\n",
    "        - The average of the squared differences from the Mean.\n",
    "        <img src=\"variance1.jpg\" height=\"150\" width=\"200\"><br>\n",
    "    <br><br>\n",
    "    - standard deviation:\n",
    "        - is calculated as the square root of variance by determining the variation between each data point relative to the mean\n",
    "        - Standard deviation is a measure of the dispersion of a set of data from its mean\n",
    "        - If the data points are further from the mean, there is higher deviation within the data set\n",
    "        <img src=\"stdev.gif\" height=\"150\" width=\"200\"><br>\n",
    "        <br>For Normal distributed data:\n",
    "        <img src=\"stdev2.png\" height=\"200\" width=\"300\"><br>"
   ]
  },
  {
   "cell_type": "code",
   "execution_count": null,
   "metadata": {},
   "outputs": [],
   "source": [
    "summary(titan)"
   ]
  },
  {
   "cell_type": "code",
   "execution_count": null,
   "metadata": {},
   "outputs": [],
   "source": [
    "round(var(titan$Freq), 2)\n",
    "round(sqrt(var(titan$Freq)), 2)\n",
    "round(sd(titan$Freq), 3)"
   ]
  },
  {
   "cell_type": "code",
   "execution_count": null,
   "metadata": {},
   "outputs": [],
   "source": [
    "hist(titan$Freq, col=\"orange\")"
   ]
  },
  {
   "cell_type": "code",
   "execution_count": null,
   "metadata": {},
   "outputs": [],
   "source": [
    "den = density(titan$Freq)\n",
    "plot(den)\n",
    "polygon(den, col=\"orange\", border=\"darkblue\")"
   ]
  },
  {
   "cell_type": "code",
   "execution_count": null,
   "metadata": {},
   "outputs": [],
   "source": [
    "summary(mtcars)"
   ]
  },
  {
   "cell_type": "code",
   "execution_count": null,
   "metadata": {},
   "outputs": [],
   "source": [
    "data = read.csv(\"height_weight.csv\", header=T)\n",
    "head(data)"
   ]
  },
  {
   "cell_type": "code",
   "execution_count": null,
   "metadata": {},
   "outputs": [],
   "source": [
    "round(sd(data$Height.Inches.), 3)\n",
    "round(mean(data$Height.Inches.), 3)\n",
    "\n",
    "den = density(data$Height.Inches.)\n",
    "plot(den)\n",
    "polygon(den, col=\"orange\", border=\"darkblue\")"
   ]
  },
  {
   "cell_type": "code",
   "execution_count": null,
   "metadata": {},
   "outputs": [],
   "source": [
    "den = density(data$Weight.Pounds.)\n",
    "plot(den)\n",
    "polygon(den, col=\"orange\", border=\"darkblue\")"
   ]
  },
  {
   "cell_type": "markdown",
   "metadata": {},
   "source": [
    "<font color = red>6. Scatter Graph</font><br>\n",
    "\n",
    "- The Scatter graphs pairs of numerical data to look for a relationship between them.\n",
    "- The data is displayed as a collection of points:\n",
    "    - value of one variable determining the position on the horizontal axis\n",
    "    - value of the other variable determining the position on the vertical axis.\n",
    "- If the points are colored or sized, one additional variable can be displayed. "
   ]
  },
  {
   "cell_type": "code",
   "execution_count": null,
   "metadata": {},
   "outputs": [],
   "source": [
    "head(iris)"
   ]
  },
  {
   "cell_type": "code",
   "execution_count": null,
   "metadata": {},
   "outputs": [],
   "source": [
    "plot(iris$Sepal.Width, iris$Sepal.Length)"
   ]
  },
  {
   "cell_type": "code",
   "execution_count": null,
   "metadata": {},
   "outputs": [],
   "source": [
    "ggplot(iris, \n",
    "aes(x = Sepal.Width, y = Sepal.Length, colour = as.factor(Species), size = Petal.Width)) + \n",
    "geom_point()"
   ]
  },
  {
   "cell_type": "markdown",
   "metadata": {},
   "source": [
    "<font color = red>7. Bar Chart</font><br>\n",
    "\n",
    "- Is a chart presenting grouped data with rectangular bars with lengths proportional to the values that they represent. \n",
    "- The bars can be plotted vertically or horizontally.\n",
    "\n",
    "==============================================================================================\n",
    "\n",
    "#### 7.1. Simple bar chart"
   ]
  },
  {
   "cell_type": "code",
   "execution_count": null,
   "metadata": {},
   "outputs": [],
   "source": [
    "cnt <- table(mtcars$gear)\n",
    "cnt\n",
    "barplot(cnt, main=\"Distribution of Cars\", horiz=TRUE,\n",
    "names.arg=c(\"3 Gears\", \"4 Gears\", \"5 Gears\"))"
   ]
  },
  {
   "cell_type": "code",
   "execution_count": null,
   "metadata": {},
   "outputs": [],
   "source": [
    "barplot(cnt, main=\"Distribution of Cars\", horiz=FALSE,\n",
    "names.arg=c(\"3 Gears\", \"4 Gears\", \"5 Gears\"))"
   ]
  },
  {
   "cell_type": "markdown",
   "metadata": {},
   "source": [
    "#### 7.2. Grouped bar chart"
   ]
  },
  {
   "cell_type": "code",
   "execution_count": null,
   "metadata": {},
   "outputs": [],
   "source": [
    "cnt <- table(mtcars$vs, mtcars$gear)\n",
    "barplot(cnt, main=\"Distribution of Cars by Gears and VS\",\n",
    "xlab=\"# Gears vs. VS\",col=c(\"blue\",\"red\"),\n",
    "legend = c(\"Gear\", \"VS\"), beside=TRUE)"
   ]
  },
  {
   "cell_type": "markdown",
   "metadata": {},
   "source": [
    "===============================================================================================\n",
    "\n",
    "# 2. The Additive and Multiplicative Rules of Probability\n",
    "\n",
    "\n",
    "## 2.1. Probability\n",
    "<br>\n",
    "<font color=red> 1. An Introduction to Probability</font>\n",
    "- <font color=blue><b>PROBABILITY</b></font> represents the likelihood of an event happening\n",
    "- Probability is defined as a number between 0 and 1\n",
    "- A probability of 0 indicates no chance of that event occurring\n",
    "- Probability of 1 means the event will occur. \n",
    "- If you come up with a negative probability, or a probability greater than 1, you've made a mistake\n",
    "\n",
    "\n",
    "<table border=1><tr><td>\n",
    "<font color=brown><b>fraction method:</font> <br>\n",
    "<font color=red>P(desirable outcomes)</font> = <font color=blue>(number of desirable outcomes)</font> / <font color=green>(total number of possible outcomes)</font>\n",
    "</b></td></tr></table>\n",
    "\n",
    "<br><br>\n",
    "Example 1. <br><font color=brown>A single 6-sided dice is rolled. What is the probability of rolling a 2?</font>\n",
    "<img src=\"dice.gif\" height=\"50\" width=\"100\"><br>\n",
    "\n",
    "\t\n",
    "<font color=green>P(2) = 1 / 6 = 0.17</font>\n",
    "<br><br>\n",
    "\n",
    "<font color=red>2. Additive Rule of Probability</font>\n",
    "\n",
    "- <font color=brown><b>Addition Rule 1:</b></font> When two events, A and B, are <b>mutually exclusive</b>, the probability that A or B will occur is the sum of the probability of each event. \n",
    "\n",
    "<table border=1><tr><td>\n",
    "<font color=brown><b>Additive Rule for mutually exclusive events:</font> <br>\n",
    "<font color=red>P(A or B)</font> = <font color=blue> P(A)</font> + <font color=green>P(B)</font>\n",
    "</b></td></tr></table>\n",
    "\n",
    "<br><br>\n",
    "Example 2. <br><font color=brown>A single 6-sided die is rolled. What is the probability of rolling a 2 or a 5?</font><br>\n",
    "\n",
    "\t\n",
    "<font color=green>P(2) = 1 / 6<br>P(5) = 1 / 6<br>P(2 or 5)\t= P(2) + P(5) = 2 / 6 = 0.3</font>\n",
    "\n",
    "<br><br>\n",
    "Example 3. <br><font color=brown>A glass jar contains 1 red, 3 green, 2 blue, and 4 yellow marbles. If a single marble is chosen at random from the jar, what is the probability that it is yellow or green?</font><br>\n",
    "<img src=\"marbles_jar.gif\" height=\"50\" width=\"100\"><br>\n",
    "\n",
    "\t\n",
    "<font color=green>P(yellow) = 4 / 10<br>P(green) = 3 / 10<br>P(yellow or green)\t= P(yellow) + P(green) = 7 / 10 = 0.7</font>\n",
    "\n",
    "<br><br>\n",
    "- <font color=brown><b>Addition Rule 2:<b></font> When two events, A and B, are <b>non-mutually exclusive</b>, the probability that A or B will occur is the sum of the probability of each event, minus the probability of the overlap. P(A or B)\n",
    "\n",
    "<table border=1><tr><td>\n",
    "<font color=brown><b>Additive Rule for non-mutually exclusive events:</font> <br>\n",
    "<font color=red>P(A or B)</font> = <font color=blue> P(A)</font> + <font color=green>P(B)</font> - <font color=orange>P(A and B)</font>\n",
    "</b></td></tr></table>\n",
    "<br><br>\n",
    "\n",
    "Example 4. <br><font color=brown>In a math class of 30 students, 17 are boys and 13 are girls. On a unit test, 4 boys and 5 girls made an A grade. If a student is chosen at random from the class, what is the probability of choosing a girl or an A student?</font><br>\n",
    "<img src=\"students.jpg\" height=\"150\" width=\"200\"><br>\n",
    "\n",
    "\t\n",
    "<font color=green>P(girl or grade_A)</font> = <font color=purple>P(girl)</font>\t +\t<font color=blue>P(grade_A)</font> - <font color=orange>P(girl and grade_A)</font><br>\n",
    "<font color=green>= <font color=purple>13 / 30</font> + <font color=blue>9 / 30</font> - <font color=orange>5 / 30</font> = 17 / 30 <font color=green>= 0.57</font>"
   ]
  },
  {
   "cell_type": "markdown",
   "metadata": {
    "collapsed": true
   },
   "source": [
    "# Exercise:\n",
    "\n",
    "<br><font color=brown>In a group of 101 students 40 are juniors, 50 are female, and 22 are female juniors. Find the probability that a student picked from this group at random is either a junior or female.</font>\n",
    "<br><br>\n",
    "\n",
    "<font color=blue>\n",
    "P(junior) = 40 / 101 <br>P(female) = 50 / 101 <br>P(junior and female) = 22 / 101. \n",
    "<br>So,<br>\n",
    "\n",
    "P(junior or female) = 40 / 101 + 50 / 101 – 22 / 101 = 68/101<br> = 0.67\n",
    "</font>"
   ]
  },
  {
   "cell_type": "markdown",
   "metadata": {},
   "source": [
    "<font color=red>3. Multiplicative Rule of Probability</font>\n",
    "\n",
    "<table border=1><tr><td>\n",
    "<font color=brown><b>Multiplicative Rule:</font> <br>\n",
    "<font color=red>P(A and B)</font> = <font color=blue> P(A)</font> &times; <font color=green>P(A | B)<br>or<br><font color=blue> P(B)</font> &times; <font color=green>P(B | A)</font>\n",
    "</b></td></tr></table>\n",
    "\n",
    "<br><br>\n",
    "Example 5 (independant events). <br><font color=brown>Suppose we roll one dice followed by another. What is the probability of rolling a 4 on the first dice and rolling an even number on the second dice?</font>\n",
    "<img src=\"dice2.jpg\" height=\"50\" width=\"100\"><br>\n",
    "\n",
    "==============================================================================================="
   ]
  },
  {
   "cell_type": "markdown",
   "metadata": {},
   "source": [
    "## 2.2. Counting\n",
    "\n",
    "- How to count data"
   ]
  },
  {
   "cell_type": "code",
   "execution_count": null,
   "metadata": {},
   "outputs": [],
   "source": [
    "numbers <- c(7,33,7,657,33,7,54,54,56,657,67,67,226,\n",
    "         453,226,324,34,456,56,657,567,65,34,435,7,33,324,7,54,657)\n",
    "\n",
    "a <- table(numbers)\n",
    "a"
   ]
  },
  {
   "cell_type": "code",
   "execution_count": null,
   "metadata": {
    "scrolled": true
   },
   "outputs": [],
   "source": [
    "as.data.frame(table(numbers))"
   ]
  },
  {
   "cell_type": "code",
   "execution_count": null,
   "metadata": {},
   "outputs": [],
   "source": [
    "numbers==7\n",
    "\"=====================\"\n",
    "which(numbers==7)\n",
    "\"=====================\"\n",
    "length(which(numbers==7))"
   ]
  },
  {
   "cell_type": "code",
   "execution_count": null,
   "metadata": {},
   "outputs": [],
   "source": [
    "mydf = data.frame(\n",
    "    Name=c(\"John\", \"Sara\", \"Amin\", \"Tom\", \"Sophia\", \"Emma\"),\n",
    "    Age = c(5, 7, 6, 5, 7, 4))\n",
    "print(mydf)"
   ]
  },
  {
   "cell_type": "code",
   "execution_count": null,
   "metadata": {},
   "outputs": [],
   "source": [
    "nrow(mydf)\n",
    "\"==========\"\n",
    "ncol(mydf)"
   ]
  },
  {
   "cell_type": "markdown",
   "metadata": {},
   "source": [
    "## <font color=red>2.3. Random Variable</font>\n",
    "\n",
    "- Is a variable quantity whose possible values depend on a set of random outcomes events. \n",
    "- It is common that the outcome depends on some physical variables that are not well understood. \n",
    "    - For example, when you toss a coin or a dice, it falls on its edge, and the final outcome  (H,T) or {1-6} depends on the uncertain physics.\n",
    "    \n",
    "### <font color=red>2.3.1. Generate Random Variable</font>\n",
    "    \n",
    "### Examples\n",
    "\n",
    "- Example 1. Generate a <font color=red>random <b>decimal</b> number</font> between n and m."
   ]
  },
  {
   "cell_type": "code",
   "execution_count": null,
   "metadata": {},
   "outputs": [],
   "source": [
    "runif(1, 6.75, 7.25) # n=6.75 ; m = 7.25\n",
    "runif(1, 6.75, 7.25)\n",
    "runif(1, 6.75, 7.25)"
   ]
  },
  {
   "cell_type": "code",
   "execution_count": null,
   "metadata": {},
   "outputs": [],
   "source": [
    "runif(10, 6.75, 7.25)"
   ]
  },
  {
   "cell_type": "markdown",
   "metadata": {},
   "source": [
    "=====================================================================================\n",
    "- Example 2. Generate a <font color=red>random <b>integer</b> number</font> between n and m."
   ]
  },
  {
   "cell_type": "code",
   "execution_count": null,
   "metadata": {},
   "outputs": [],
   "source": [
    "sample(5:10, 1)# n=5 ; m = 10\n",
    "sample(5:10, 1)\n",
    "sample(5:10, 1)"
   ]
  },
  {
   "cell_type": "code",
   "execution_count": null,
   "metadata": {},
   "outputs": [],
   "source": [
    "sample(5:10, 7, replace=T)"
   ]
  },
  {
   "cell_type": "code",
   "execution_count": null,
   "metadata": {},
   "outputs": [],
   "source": [
    "sample(5:10, 7, replace=F)"
   ]
  },
  {
   "cell_type": "markdown",
   "metadata": {},
   "source": [
    "=====================================================================================\n",
    "\n",
    "Example 3. Select <font color=green>3 cars from MTCARS</font> randomly."
   ]
  },
  {
   "cell_type": "code",
   "execution_count": null,
   "metadata": {},
   "outputs": [],
   "source": [
    "sample(rownames(mtcars), 3, replace = F)"
   ]
  },
  {
   "cell_type": "markdown",
   "metadata": {},
   "source": [
    "=====================================================================================\n",
    "\n",
    "Example 4. Select <font color=green>4 states from STATES.X77</font> <font color=blue> having Income > 4500</font>, randomly."
   ]
  },
  {
   "cell_type": "code",
   "execution_count": null,
   "metadata": {},
   "outputs": [],
   "source": [
    "head(state.x77)"
   ]
  },
  {
   "cell_type": "code",
   "execution_count": null,
   "metadata": {},
   "outputs": [],
   "source": [
    "state.x77[state.x77[,2] > 4500,]"
   ]
  },
  {
   "cell_type": "code",
   "execution_count": null,
   "metadata": {},
   "outputs": [],
   "source": [
    "rownames(state.x77[state.x77[,2] > 4500,])"
   ]
  },
  {
   "cell_type": "code",
   "execution_count": null,
   "metadata": {},
   "outputs": [],
   "source": [
    "sample(rownames(state.x77[state.x77[,2] > 4500,]), 4, replace = F)"
   ]
  },
  {
   "cell_type": "markdown",
   "metadata": {},
   "source": [
    "============================================================================================\n",
    "\n",
    "### <font color=red>2.3.2. Expected Value of a Random Variable</font>\n",
    "\n",
    "- Expected value of a random variable is the center of its distribution (mean)\n",
    "- Usually shown by E[x].<br><br>\n",
    "\n",
    "<font color=blue>&#x2705; For Discrete Random Variable</font>\n",
    "- Is the weighted average of the values in the range of X.\n",
    "\n",
    "\n",
    "- Example 5. Suppose that a dice is rolled and X is the number face up. What is <font color=green>the expected value of X</font>?"
   ]
  },
  {
   "cell_type": "code",
   "execution_count": null,
   "metadata": {},
   "outputs": [],
   "source": [
    "e_x = (1+2+3+4+5+6)/6 # Assuming that there the same weight values for all elements\n",
    "e_x"
   ]
  },
  {
   "cell_type": "code",
   "execution_count": null,
   "metadata": {},
   "outputs": [],
   "source": [
    "mean(1:6)"
   ]
  },
  {
   "cell_type": "code",
   "execution_count": null,
   "metadata": {},
   "outputs": [],
   "source": [
    "# And the same for flipping a coin\n",
    "mean(c(T, F))\n",
    "\n",
    "# Or\n",
    "mean(c(0, 1))"
   ]
  },
  {
   "cell_type": "markdown",
   "metadata": {},
   "source": [
    "============================================================================================\n",
    "<font color=blue>&#x2705; For Continuous Random Variable</font>\n",
    "- A continuous random variable is described by a probability density function. \n",
    "- If f(x) is the probability density of a random variable X, P(X≤b) is the area under f(x) and to the left of b. \n",
    "- The total area under f(x) = 1.f(x) ≥ 0 for all possible values of X. P(X>b) = 1 – P(X≤b). \n",
    "- <font color=blue>The expected value is</font> <font color=red>the balance point where exactly half of the total area under f(x) is to the right and half is to the left</font>.\n",
    "\n",
    "\n",
    "<table border=1>\n",
    "<tr><td>if X is a random variable with density function f<br> and a < b, then</td><td><img src=\"eq1.jpg\" height=\"200\" width=\"300\"></td></tr>\n",
    "<tr><td colspan=2><img src=\"eq1viz.png\" height=\"200\" width=\"300\"></td></tr>\n",
    "<tr><td>the expected value of X is given by</td><td><img src=\"eq2.jpg\" height=\"200\" width=\"300\"></td></tr>\n",
    "</table>\n",
    "\n",
    "\n",
    "- Example 6. Suppose a train arrives shortly after 1:00 PM each day, and that the number of minutes after 1:00 that the train arrives can be modeled as a continuous random variable with the density given below. <font color=green>Find the expected value of the number of minutes after 1:00 that the train arrives</font>.\n",
    "<img src=\"eq3.jpg\" height=\"200\" width=\"300\">\n",
    "<br><br>\n",
    "<font color=red>ANSWER:</font>\n",
    "<img src=\"eq4.jpg\" height=\"500\" width=\"700\">"
   ]
  },
  {
   "cell_type": "markdown",
   "metadata": {
    "collapsed": true
   },
   "source": [
    "===============================================================================================\n",
    "# 3. Statistical Distributions\n",
    "\n",
    "- Confronting a set of data, there are 5 fundamental questions to be able to characterize it.\n",
    "    1. <font color=red>Descrete or Continuous</font>\n",
    "        - Descrete: {-2, 4, -8, 6, 99} OR {'TOYOTA', 'BMW', 'FORD', 'LAMBORGINI'}\n",
    "        - Continuous: {0, 0.01, 0.02, 0.03, 0.04, ..., 0.98, 0.99, 1.00}<br><br>\n",
    "    2. <font color=red>Symmetric or Asymmetric</font>\n",
    "        - Symmetric: Left and right hand sides of the distribution are roughly equally balanced around the mean. ( MEAN = MEDIAN )\n",
    "        - Asymmetric (Skewed): \n",
    "            - Skewed Left: Mean to the left of the median, long tail on the left.\n",
    "            - Skewed Right: Mean to the right of the median, long tail on the right.\n",
    "            <br>\n",
    "<table border=1>\n",
    "<tr><td>Symmetric</td><td><img src=\"symmetric.gif\" height=\"200\" width=\"300\"></td></tr>\n",
    "<tr><td>Skewed Left</td><td><img src=\"skew_left.gif\" height=\"200\" width=\"300\"></td></tr>\n",
    "<tr><td>Skewed Right</td><td><img src=\"skew_right.gif\" height=\"200\" width=\"300\"></td></tr>\n",
    "</table>\n",
    "<br><br>\n",
    "    3. <font color=red>Upper and Lower Limits</font>\n",
    "        - Upper Limits: Values cannot exceed a maximum, e.g. performance percentage (max = 100%)\n",
    "        - Continuous: Values cannot be ower than a minimum, e.g. Revenue (min = 0.0)\n",
    "        \n",
    "    4. <font color=red>Likelihood of observing extreme values</font>\n",
    "        - In some data, the extreme values occur very infrequently whereas in others, they occur more often.\n",
    "<br><br>\n",
    "    5. <font color=red size=5><b>Statistical Distribution</b></font>\n",
    "        - Is a <b>listing</b> or <b>function</b> showing all the possible values (or intervals) of the data and how often they occur. \n",
    "        - When a <font color=blue>distribution of categorical data</font> is organized, you see the number or percentage of individuals in each group. \n",
    "        - When a <font color=green>distribution of numerical data</font> is organized, they’re often ordered from smallest to largest, broken into reasonably sized groups (if appropriate), and then put into graphs and charts to examine the shape, center, and amount of variability in the data.\n",
    "        <br><br>\n",
    "- Dozens of different distributions for categorical and numerical data.\n",
    "## 3.1. Normal Distribution\n",
    "\n",
    "- One of the most well-known distributions, also known as the <b>bell-shaped curve</b>.\n",
    "- Its overall shape, when the data are organized in graph form, is a <b>symmetric bell-shape</b>.\n",
    "- Around <font color=red>68%</font> of the data are centered around the mean\n",
    "- moving farther out on either side of the mean, you find fewer and fewer values\n",
    "\n",
    "<table border=1>\n",
    "<tr><td>Normal Distribution</td><td><img src=\"normal-distrubution.gif\" height=\"400\" width=\"600\"></td></tr></table>\n",
    "<br><br>\n",
    "- Examples of Normal Distribution:\n",
    "    - heights of people\n",
    "    - errors in measurements\n",
    "    - blood pressure\n",
    "    - marks on a test"
   ]
  },
  {
   "cell_type": "markdown",
   "metadata": {},
   "source": [
    "===============================================================================================\n",
    "## 3.2. Binomail Distribution\n",
    "\n",
    "- The binomial distribution with <font color=blue>parameters <b>n</b></font> and <font color=blue><b>p</b></font> is the discrete probability distribution of the <font color=red>number of successes in a sequence of n independent binary (let's say yes/no) experiments</font>, each of which yields <font color=green>a success with probability p</font>. \n",
    "\n",
    "\n",
    "- <b>Probability Mass Function (P.M.F.)<b>:\n",
    "    - The probability of getting exactly <b>k</b> successes in <b>n</b> trials is given by\n",
    "    \\begin{equation*}\n",
    "    f(k;n,p)=\\Pr(X=k)={\\binom {n}{k}}p^{k}(1-p)^{n-k}\n",
    "    \\end{equation*}\n",
    "\n",
    "\n",
    "- Example:\n",
    "    - Suppose a biased coin comes up heads with probability 0.4 when tossed. What is the probability of achieving <b>4</b> heads <b>after 6</b> tosses?\n",
    "    \\begin{equation*}\n",
    "    - \\Pr(4{\\text{ heads}})=f(4)=\\Pr(X=4)={6 \\choose 4}0.3^{4}(1-0.3)^{6-4}\\approx 0.0595\n",
    "    \\end{equation*}\n",
    "    \n",
    "### 3.2.1. Approximating the Binomial Distribution\n",
    "\n",
    "- Example:\n",
    "    - A company manufactures light bulbs with <b>5%</b> defection rate. If we take <b>100</b> randomly-selected bulbs from assembly line, What is the probability that the sample contains at most <b>3</b> defective bulbs?\n",
    "    <br><br>\n",
    "    - <font color=red>1st method: </font><b> Pr(X≤3) = Pr(X=0) + Pr(X=1) + Pr(X=2) + Pr(X=3)</b>\n",
    "    \n",
    "    \\begin{equation*}\n",
    "    \\Pr(X=0)={100 \\choose 0}0.0.05^{0}(1-0.05)^{100-0}\\approx  0.0059205 \\\\\n",
    "    \\Pr(X=1)={100 \\choose 1}0.0.05^{1}(1-0.05)^{100-1}\\approx  0.0311607 \\\\\n",
    "    \\Pr(X=2)={100 \\choose 2}0.0.05^{2}(1-0.05)^{100-2}\\approx  0.0811818 \\\\\n",
    "    \\Pr(X=3)={100 \\choose 3}0.0.05^{3}(1-0.05)^{100-3}\\approx  0.1395757 \\\\\n",
    "    \\Pr(X ≤ 3) = 0.0059205 + 0.0311607 + 0.0811818 + 0.1395757 = 0.25784\n",
    "    \\end{equation*}\n",
    "    <br><br>\n",
    "    - <font color=red>2nd method: </font><b>Using Poisson distribution</b>\n",
    "        - In poisson Dist. Mean is λ = np, so, for our example λ = 100(0.05) = 5\n",
    "        - Now, let's look at Poisson table to find P(X ≤ 3) \n",
    "        <table border=1>\n",
    "        <tr><td>A part of <br>Poisson Table</td><td><img src=\"poisson_table.gif\" height=\"200\" width=\"300\"></td></tr>\n",
    "        </table>\n",
    "        <br><br>\n",
    "    - <font color=red>NOTE: </font>The Poisson approximation to the binomial distribution is correct if <b>n is large</b> and <b>p is small</b>. \n",
    "        - In general, the approximation works well if n ≥ 20 and p ≤ 0.05, or \n",
    "        - if n ≥ 100 and p ≤ 0.10."
   ]
  },
  {
   "cell_type": "markdown",
   "metadata": {},
   "source": [
    "=======================================================================================================================\n",
    "## 3.3. Estimation\n",
    "\n",
    "### <font color=blue>3.3.1. Point Estimation</font>\n",
    "\n",
    "- If we have an unknown population parameter, such as a population mean μ or a population proportion p, which we'd like to estimate. \n",
    "- For example, \n",
    "    - p = the (unknown) proportion of American high-school students, who have a smart phone\n",
    "    - μ = the (unknown) mean number of days it takes soccers's amature players to achieve certain skill\n",
    "- Apparently, we cannot possibly survey the entire population.\n",
    "- We must take a random sample from the population, and use the resulting data to estimate the value of the population parameter.\n",
    "- The estimate should be \"good\"-enough.\n",
    "<br><br>\n",
    "- There are different methods to do point estimation peoposed for different purposes, e.g.\n",
    "    - Minimum-variance mean-unbiased estimator (MVUE), minimizes the risk (expected loss) of the squared-error loss-function.\n",
    "    - Best linear unbiased estimator (BLUE)\n",
    "    - Minimum mean squared error (MMSE)\n",
    "    - Median-unbiased estimator, minimizes the risk of the absolute-error loss function\n",
    "    - Maximum likelihood (ML)\n",
    "    - Method of moments, generalized method of moments\n",
    "    \n",
    "### <font color=blue>3.3.2. Interval Estimation</font>\n",
    "\n",
    "- Is defined by two numbers, between which a population parameter is said to lie. \n",
    "- If <b>a < x < b</b> is an interval estimate of the population mean μ, it means the population mean is greater than a but less than b."
   ]
  },
  {
   "cell_type": "markdown",
   "metadata": {
    "collapsed": true
   },
   "source": [
    "===============================================================================================\n",
    "## 3.4. The Central Limit Theorem (CLT)\n",
    "\n",
    "- For a large-enough sample size from a population with a finite level of variance, <font color=blue><b>the mean of all samples</b></font> from the same population will be approximately <font color=blue><b>equal to the mean of the population</b></font>.\n",
    "\n",
    "\n",
    "- Example:"
   ]
  },
  {
   "cell_type": "code",
   "execution_count": null,
   "metadata": {},
   "outputs": [],
   "source": [
    "tmp = runif(100000, 10, 20)\n",
    "summary(tmp)"
   ]
  },
  {
   "cell_type": "code",
   "execution_count": null,
   "metadata": {},
   "outputs": [],
   "source": [
    "tmp_smp = sample(tmp, 1000)\n",
    "summary(tmp_smp)"
   ]
  },
  {
   "cell_type": "markdown",
   "metadata": {},
   "source": [
    "===============================================================================================\n",
    "# 4. Hypothesis Testing\n",
    "\n",
    "- Is a statistical test that is used to determine whether there is enough evidence in a sample of data to infer that a certain condition is true for the entire population. \n",
    "- It examines two opposing hypotheses about a population: \n",
    "    1. The null hypothesis (H0, H-null)\n",
    "        - Being used to show there is no relationship between two measured phenomena, or no association among groups\n",
    "        - It is generally assumed to be true until evidence indicates otherwise.<br><br>\n",
    "    2. The alternative hypothesis\n",
    "        -  Is contrary to the null hypothesis. It is usually taken to be that the observations are the result of a real effect\n",
    "\n",
    "- <font color=red><b><I>p</I>-value</b></font> \n",
    "    - Can be thought of as the <b>P(Rejecting H0 ∣ H0 is true)</b>\n",
    "    - It is the probability that a random sample would produce results as extreme, or more extreme, than those obtained given that the null hypothesis is true."
   ]
  },
  {
   "cell_type": "markdown",
   "metadata": {},
   "source": [
    "=======================================================================================================================\n",
    "## 4.1. How to conduct a Hypothesis Test?\n",
    "\n",
    "- Suppose that the sampling distribution is normal or nearly normal.\n",
    "- Follow below-mentioned steps:\n",
    "    1. State the Hypotheses\n",
    "    2. Formulate an Analysis Plan\n",
    "        - Significance level ( normally 0.05)\n",
    "        - Test method (e.g. one-sample t-test)\n",
    "    3. Analyze Sample Data\n",
    "        - Standard error\n",
    "        - Degrees of freedom (DF = n - 1)\n",
    "        - Test statistic (t = (x - μ) / SE)\n",
    "    4. Run the test and Interpret the Results\n",
    "    5. State a \"real world\" conclusion\n",
    "    \n",
    "### <I>4.1.1. Hypothese Testing for a Set</I>"
   ]
  },
  {
   "cell_type": "markdown",
   "metadata": {},
   "source": [
    "### Example 1. Hypothesis testing for a proportion\n",
    "\n",
    "- <font color=blue>Is the proportion of babies born male different from .50?</font>\n",
    "\n",
    "    - This is a <b>two-tailed test</b> because our research question does not state if the proportion of males should be less than or more than .50, it just states that it is different. "
   ]
  },
  {
   "cell_type": "code",
   "execution_count": null,
   "metadata": {
    "scrolled": true
   },
   "outputs": [],
   "source": [
    "# 0: Boy, 1: Girl\n",
    "kids = sample(0:1, 500, replace = T)\n",
    "n = length(kids[kids==0])\n",
    "m = 500 - n\n",
    "n"
   ]
  },
  {
   "cell_type": "code",
   "execution_count": null,
   "metadata": {},
   "outputs": [],
   "source": [
    "sp = n/500\n",
    "p0 = 0.5\n",
    "z = (sp - p0)/sqrt(p0*(1-p0)/500)\n",
    "round(z, 3)"
   ]
  },
  {
   "cell_type": "markdown",
   "metadata": {},
   "source": [
    "<table border=1>\n",
    "<tr><td>z-score Table</td><td><img src=\"ztable.png\" height=\"300\" width=\"400\"></td></tr>\n",
    "</table>"
   ]
  },
  {
   "cell_type": "markdown",
   "metadata": {},
   "source": [
    "- p(z > 0.268) = 0.6064\n",
    "\n",
    "- Because this is a two-tailed test we must take into account both the left and right tails. So:\n",
    "    - p-value is 0.6064 + 0.6064 = 1.2128\n",
    "    \n",
    "    - <font color=red><b>p > 0.05, therefore our decision is to fail to reject the null hypothesis</b></font>"
   ]
  },
  {
   "cell_type": "markdown",
   "metadata": {},
   "source": [
    "### Example 2. Hypothesis testing for a MEAN\n",
    "\n",
    "- <font color=blue>In the population of Americans who drink coffee, the average daily consumption is 3 cups per day. A university wants to know if their students tend to drink more coffee than the national average. They ask 50 students how many cups of coffee they drink each day and found x¯=3.8 and s=1.5. Do they have evidence that their students drink more than the national average?</font>\n",
    "\n",
    "\n",
    "- We have to use t-test.\n",
    "- This is a <b>right-tailed test</b> because we want to know if the mean in the sample is <b>greater than the national average</b>.\n",
    "\n",
    "<table><tr><td colspan=2>\n",
    "\\begin{equation*}\n",
    "t=\\frac{\\overline{x}-\\mu_0}{\\frac{s}{\\sqrt{n}}}\n",
    "\\end{equation*}\n",
    "</td></tr><tr><td>\n",
    "    \\begin{equation*}\\overline{x}\\end{equation*}</td><td> sample mean</td><tr><td>\n",
    "    \\begin{equation*}\\mu_{0}\\end{equation*}</td><td> hypothesized population mean</td><tr><td>\n",
    "    s</td><td> sample standard deviation</td><tr><td>\n",
    "    n</td><td> sample size</td></tr></table>\n"
   ]
  },
  {
   "cell_type": "code",
   "execution_count": null,
   "metadata": {},
   "outputs": [],
   "source": [
    "t = (3.8 - 3) / (1.5 / sqrt(50))\n",
    "round(t, 3)"
   ]
  },
  {
   "cell_type": "code",
   "execution_count": null,
   "metadata": {},
   "outputs": [],
   "source": [
    "n = 50\n",
    "df = n-1"
   ]
  },
  {
   "cell_type": "code",
   "execution_count": null,
   "metadata": {},
   "outputs": [],
   "source": [
    "pvalue = 1 - pt(3.771, df=49)\n",
    "round(pvalue,7)\n",
    "pvalue < 0.05"
   ]
  },
  {
   "cell_type": "code",
   "execution_count": null,
   "metadata": {},
   "outputs": [],
   "source": [
    "?pt"
   ]
  },
  {
   "cell_type": "markdown",
   "metadata": {},
   "source": [
    "- It means If μ = 3, then the probability of taking a random sample of n = 50 and finding x¯ >= 3 is .0002191\n",
    "- As p_value <0.05, we reject the null hypothesis. In another word, there is evidence to state that students at this university drink more than 3 cups of coffee daily.\n",
    "\n",
    "\n",
    "- Second way:"
   ]
  },
  {
   "cell_type": "code",
   "execution_count": null,
   "metadata": {},
   "outputs": [],
   "source": [
    "d = rnorm(50, 3.8, 1.5)\n",
    "mean(d)\n",
    "sd(d)"
   ]
  },
  {
   "cell_type": "code",
   "execution_count": null,
   "metadata": {},
   "outputs": [],
   "source": [
    "res=t.test(d,\n",
    "       alternative = c(\"greater\"),\n",
    "       mu = 3, paired = FALSE, var.equal = FALSE,\n",
    "       conf.level = 0.95)\n",
    "print(res)"
   ]
  },
  {
   "cell_type": "markdown",
   "metadata": {},
   "source": [
    "### <I>4.1.2. Hypothese Testing to Compare Two Sets</I>\n",
    "\n",
    "### Example 1. Comparing two independent proportions\n",
    "\n",
    "- For <b>a right- or left-tailed</b> test, <b>a minimum of 10 successes and 10 failures</b> in each group are necessary\n",
    "- <b>Two-tailed</b> tests are more robust and require only <b>a minimum of 5 successes and 5 failures</b> in each group \n",
    "\n",
    "- The two groups that are being compared must be <b>unpaired and unrelated (i.e., independent)</b>.\n",
    "\n",
    "\n",
    "- <font color=blue>A Creamery wants to compare men and women in terms of preference for eating their ice cream out of a cone. They take a sample of 500 customers (240 men and 260 women) and ask if they prefer cones over bowls. They found that 124 men preferred cones and 90 women preferred cones.</font>"
   ]
  },
  {
   "cell_type": "markdown",
   "metadata": {},
   "source": [
    "- <a href=\"https://www.youtube.com/watch?v=qDBwmiAMC3g\">Click to watch a Video</a>\n",
    "\n",
    "\n",
    "- Another way:"
   ]
  },
  {
   "cell_type": "code",
   "execution_count": null,
   "metadata": {},
   "outputs": [],
   "source": [
    "x=c(124, 90) #a vector of the number of successes\n",
    "n=c(240, 260)#a vector of the number of trials\n",
    "prop.test(x, n, alternative = c(\"two.sided\"),\n",
    "          conf.level = 0.95, correct = T)"
   ]
  },
  {
   "cell_type": "markdown",
   "metadata": {},
   "source": [
    "### Example 2. Comparing two independent Means\n",
    "\n"
   ]
  },
  {
   "cell_type": "markdown",
   "metadata": {},
   "source": [
    "- <font color=blue>Cholesterol levels are measured for 28 heart attack patients (2 days after their attacks) and 30 other hospital patients who did not have a heart attack. The response is quantitative so we compare means. It is thought that cholesterol levels will be higher for the heart attack patients, so a one-sided alternative hypothesis is used.<br>\n",
    "For the 28 heart attack patients, the mean cholesterol level was 253.9 with a standard deviation of 47.7. For the 30 other hospital patients who did not have a heart attach, the mean cholesterol level was 193.1 with a standard deviation of 22.3. </font>"
   ]
  },
  {
   "cell_type": "code",
   "execution_count": null,
   "metadata": {},
   "outputs": [],
   "source": [
    "x = rnorm(28, 253.9, 47.7)\n",
    "\n",
    "mean(x)\n",
    "sd(x)"
   ]
  },
  {
   "cell_type": "code",
   "execution_count": null,
   "metadata": {},
   "outputs": [],
   "source": [
    "y = rnorm(30, 193.1, 22.3)\n",
    "mean(y)\n",
    "sd(y)"
   ]
  },
  {
   "cell_type": "code",
   "execution_count": null,
   "metadata": {},
   "outputs": [],
   "source": [
    "t.test(x, y, alternative = \"greater\")"
   ]
  },
  {
   "cell_type": "markdown",
   "metadata": {},
   "source": [
    "### <I>4.1.3. Hypothesis Test for Dependent Samples (paird)</I>\n",
    "\n",
    "### Example 1. Comparing Two Dependent Means\n",
    "\n",
    "- <font color=blue>Are scores on the two given quizzes different?</font>\n",
    "\n",
    "<table style=\"width: 300px; text-align: center;\" border=\"1\"><tbody><tr><td><strong>Student ID</strong></td><td style=\"text-align: center;\"><strong>Quiz 1</strong></td><td style=\"text-align: center;\"><strong>Quiz 2</strong></td></tr><tr><td>001</td><td>98</td><td>94</td></tr><tr><td>002</td><td>100</td><td>98</td></tr><tr><td>003</td><td>95</td><td>98</td></tr><tr><td>004</td><td>90</td><td>88</td></tr><tr><td>005</td><td>90</td><td>89</td></tr><tr><td>006</td><td>92</td><td>91</td></tr><tr><td>007</td><td>80</td><td>84</td></tr><tr><td>008</td><td>78</td><td>80</td></tr><tr><td>009</td><td>88</td><td>88</td></tr></tbody></table>\n",
    "\n",
    "\n",
    "<p style=\"padding-left: 30px;\">Given <span class=\"MathJax_Preview\" style=\"color: inherit; display: none;\"></span><span class=\"MathJax\" id=\"MathJax-Element-1-Frame\" tabindex=\"0\" data-mathml=\"<math xmlns=&quot;http://www.w3.org/1998/Math/MathML&quot;><msub><mi>&amp;#x03BC;</mi><mi>d</mi></msub><mo>=</mo><msub><mi>&amp;#x03BC;</mi><mn>1</mn></msub><mo>&amp;#x2212;</mo><msub><mi>&amp;#x03BC;</mi><mn>2</mn></msub></math>\" role=\"presentation\" style=\"position: relative;\"><nobr aria-hidden=\"true\"><span class=\"math\" id=\"MathJax-Span-1\" style=\"width: 5.837em; display: inline-block;\"><span style=\"display: inline-block; position: relative; width: 5.58em; height: 0px; font-size: 104%;\"><span style=\"position: absolute; clip: rect(1.413em 1005.58em 2.567em -999.997em); top: -2.176em; left: 0em;\"><span class=\"mrow\" id=\"MathJax-Span-2\"><span class=\"msubsup\" id=\"MathJax-Span-3\"><span style=\"display: inline-block; position: relative; width: 1.029em; height: 0px;\"><span style=\"position: absolute; clip: rect(3.337em 1000.58em 4.362em -999.997em); top: -3.971em; left: 0em;\"><span class=\"mi\" id=\"MathJax-Span-4\" style=\"font-family: MathJax_Math-italic;\">μ</span><span style=\"display: inline-block; width: 0px; height: 3.978em;\"></span></span><span style=\"position: absolute; top: -3.843em; left: 0.58em;\"><span class=\"mi\" id=\"MathJax-Span-5\" style=\"font-size: 70.7%; font-family: MathJax_Math-italic;\">d<span style=\"display: inline-block; overflow: hidden; height: 1px; width: 0.003em;\"></span></span><span style=\"display: inline-block; width: 0px; height: 3.978em;\"></span></span></span></span><span class=\"mo\" id=\"MathJax-Span-6\" style=\"font-family: MathJax_Main; padding-left: 0.26em;\">=</span><span class=\"msubsup\" id=\"MathJax-Span-7\" style=\"padding-left: 0.26em;\"><span style=\"display: inline-block; position: relative; width: 1.029em; height: 0px;\"><span style=\"position: absolute; clip: rect(3.337em 1000.58em 4.362em -999.997em); top: -3.971em; left: 0em;\"><span class=\"mi\" id=\"MathJax-Span-8\" style=\"font-family: MathJax_Math-italic;\">μ</span><span style=\"display: inline-block; width: 0px; height: 3.978em;\"></span></span><span style=\"position: absolute; top: -3.843em; left: 0.58em;\"><span class=\"mn\" id=\"MathJax-Span-9\" style=\"font-size: 70.7%; font-family: MathJax_Main;\">1</span><span style=\"display: inline-block; width: 0px; height: 3.978em;\"></span></span></span></span><span class=\"mo\" id=\"MathJax-Span-10\" style=\"font-family: MathJax_Main; padding-left: 0.196em;\">−</span><span class=\"msubsup\" id=\"MathJax-Span-11\" style=\"padding-left: 0.196em;\"><span style=\"display: inline-block; position: relative; width: 1.029em; height: 0px;\"><span style=\"position: absolute; clip: rect(3.337em 1000.58em 4.362em -999.997em); top: -3.971em; left: 0em;\"><span class=\"mi\" id=\"MathJax-Span-12\" style=\"font-family: MathJax_Math-italic;\">μ</span><span style=\"display: inline-block; width: 0px; height: 3.978em;\"></span></span><span style=\"position: absolute; top: -3.843em; left: 0.58em;\"><span class=\"mn\" id=\"MathJax-Span-13\" style=\"font-size: 70.7%; font-family: MathJax_Main;\">2</span><span style=\"display: inline-block; width: 0px; height: 3.978em;\"></span></span></span></span></span><span style=\"display: inline-block; width: 0px; height: 2.183em;\"></span></span></span><span style=\"display: inline-block; overflow: hidden; vertical-align: -0.263em; border-left: 0px solid; width: 0px; height: 0.937em;\"></span></span></nobr><span class=\"MJX_Assistive_MathML\" role=\"presentation\"><math xmlns=\"http://www.w3.org/1998/Math/MathML\"><msub><mi>μ</mi><mi>d</mi></msub><mo>=</mo><msub><mi>μ</mi><mn>1</mn></msub><mo>−</mo><msub><mi>μ</mi><mn>2</mn></msub></math></span></span><script type=\"math/tex\" id=\"MathJax-Element-1\">\\mu_d = \\mu_1 - \\mu_2</script>, our hypotheses are:<br><span class=\"MathJax_Preview\" style=\"color: inherit; display: none;\"></span><span class=\"MathJax\" id=\"MathJax-Element-2-Frame\" tabindex=\"0\" data-mathml=\"<math xmlns=&quot;http://www.w3.org/1998/Math/MathML&quot;><msub><mi>H</mi><mn>0</mn></msub><mo>:</mo><msub><mi>&amp;#x03BC;</mi><mi>d</mi></msub><mo>=</mo><mn>0</mn></math>\" role=\"presentation\" style=\"position: relative;\"><nobr aria-hidden=\"true\"><span class=\"math\" id=\"MathJax-Span-14\" style=\"width: 5.131em; display: inline-block;\"><span style=\"display: inline-block; position: relative; width: 4.939em; height: 0px; font-size: 104%;\"><span style=\"position: absolute; clip: rect(1.285em 1004.88em 2.567em -999.997em); top: -2.176em; left: 0em;\"><span class=\"mrow\" id=\"MathJax-Span-15\"><span class=\"msubsup\" id=\"MathJax-Span-16\"><span style=\"display: inline-block; position: relative; width: 1.285em; height: 0px;\"><span style=\"position: absolute; clip: rect(3.08em 1000.9em 4.17em -999.997em); top: -3.971em; left: 0em;\"><span class=\"mi\" id=\"MathJax-Span-17\" style=\"font-family: MathJax_Math-italic;\">H<span style=\"display: inline-block; overflow: hidden; height: 1px; width: 0.067em;\"></span></span><span style=\"display: inline-block; width: 0px; height: 3.978em;\"></span></span><span style=\"position: absolute; top: -3.843em; left: 0.837em;\"><span class=\"mn\" id=\"MathJax-Span-18\" style=\"font-size: 70.7%; font-family: MathJax_Main;\">0</span><span style=\"display: inline-block; width: 0px; height: 3.978em;\"></span></span></span></span><span class=\"mo\" id=\"MathJax-Span-19\" style=\"font-family: MathJax_Main; padding-left: 0.26em;\">:</span><span class=\"msubsup\" id=\"MathJax-Span-20\" style=\"padding-left: 0.26em;\"><span style=\"display: inline-block; position: relative; width: 1.029em; height: 0px;\"><span style=\"position: absolute; clip: rect(3.337em 1000.58em 4.362em -999.997em); top: -3.971em; left: 0em;\"><span class=\"mi\" id=\"MathJax-Span-21\" style=\"font-family: MathJax_Math-italic;\">μ</span><span style=\"display: inline-block; width: 0px; height: 3.978em;\"></span></span><span style=\"position: absolute; top: -3.843em; left: 0.58em;\"><span class=\"mi\" id=\"MathJax-Span-22\" style=\"font-size: 70.7%; font-family: MathJax_Math-italic;\">d<span style=\"display: inline-block; overflow: hidden; height: 1px; width: 0.003em;\"></span></span><span style=\"display: inline-block; width: 0px; height: 3.978em;\"></span></span></span></span><span class=\"mo\" id=\"MathJax-Span-23\" style=\"font-family: MathJax_Main; padding-left: 0.26em;\">=</span><span class=\"mn\" id=\"MathJax-Span-24\" style=\"font-family: MathJax_Main; padding-left: 0.26em;\">0</span></span><span style=\"display: inline-block; width: 0px; height: 2.183em;\"></span></span></span><span style=\"display: inline-block; overflow: hidden; vertical-align: -0.263em; border-left: 0px solid; width: 0px; height: 1.07em;\"></span></span></nobr><span class=\"MJX_Assistive_MathML\" role=\"presentation\"><math xmlns=\"http://www.w3.org/1998/Math/MathML\"><msub><mi>H</mi><mn>0</mn></msub><mo>:</mo><msub><mi>μ</mi><mi>d</mi></msub><mo>=</mo><mn>0</mn></math></span></span><script type=\"math/tex\" id=\"MathJax-Element-2\">H_0: \\mu_d = 0</script><br><span class=\"MathJax_Preview\" style=\"color: inherit; display: none;\"></span><span class=\"MathJax\" id=\"MathJax-Element-3-Frame\" tabindex=\"0\" data-mathml=\"<math xmlns=&quot;http://www.w3.org/1998/Math/MathML&quot;><msub><mi>H</mi><mi>a</mi></msub><mo>:</mo><msub><mi>&amp;#x03BC;</mi><mi>d</mi></msub><mo>&amp;#x2260;</mo><mn>0</mn></math>\" role=\"presentation\" style=\"position: relative;\"><nobr aria-hidden=\"true\"><span class=\"math\" id=\"MathJax-Span-25\" style=\"width: 5.131em; display: inline-block;\"><span style=\"display: inline-block; position: relative; width: 4.939em; height: 0px; font-size: 104%;\"><span style=\"position: absolute; clip: rect(1.285em 1004.88em 2.567em -999.997em); top: -2.176em; left: 0em;\"><span class=\"mrow\" id=\"MathJax-Span-26\"><span class=\"msubsup\" id=\"MathJax-Span-27\"><span style=\"display: inline-block; position: relative; width: 1.285em; height: 0px;\"><span style=\"position: absolute; clip: rect(3.08em 1000.9em 4.17em -999.997em); top: -3.971em; left: 0em;\"><span class=\"mi\" id=\"MathJax-Span-28\" style=\"font-family: MathJax_Math-italic;\">H<span style=\"display: inline-block; overflow: hidden; height: 1px; width: 0.067em;\"></span></span><span style=\"display: inline-block; width: 0px; height: 3.978em;\"></span></span><span style=\"position: absolute; top: -3.843em; left: 0.837em;\"><span class=\"mi\" id=\"MathJax-Span-29\" style=\"font-size: 70.7%; font-family: MathJax_Math-italic;\">a</span><span style=\"display: inline-block; width: 0px; height: 3.978em;\"></span></span></span></span><span class=\"mo\" id=\"MathJax-Span-30\" style=\"font-family: MathJax_Main; padding-left: 0.26em;\">:</span><span class=\"msubsup\" id=\"MathJax-Span-31\" style=\"padding-left: 0.26em;\"><span style=\"display: inline-block; position: relative; width: 1.029em; height: 0px;\"><span style=\"position: absolute; clip: rect(3.337em 1000.58em 4.362em -999.997em); top: -3.971em; left: 0em;\"><span class=\"mi\" id=\"MathJax-Span-32\" style=\"font-family: MathJax_Math-italic;\">μ</span><span style=\"display: inline-block; width: 0px; height: 3.978em;\"></span></span><span style=\"position: absolute; top: -3.843em; left: 0.58em;\"><span class=\"mi\" id=\"MathJax-Span-33\" style=\"font-size: 70.7%; font-family: MathJax_Math-italic;\">d<span style=\"display: inline-block; overflow: hidden; height: 1px; width: 0.003em;\"></span></span><span style=\"display: inline-block; width: 0px; height: 3.978em;\"></span></span></span></span><span class=\"mo\" id=\"MathJax-Span-34\" style=\"font-family: MathJax_Main; padding-left: 0.26em;\">≠</span><span class=\"mn\" id=\"MathJax-Span-35\" style=\"font-family: MathJax_Main; padding-left: 0.26em;\">0</span></span><span style=\"display: inline-block; width: 0px; height: 2.183em;\"></span></span></span><span style=\"display: inline-block; overflow: hidden; vertical-align: -0.263em; border-left: 0px solid; width: 0px; height: 1.137em;\"></span></span></nobr><span class=\"MJX_Assistive_MathML\" role=\"presentation\"><math xmlns=\"http://www.w3.org/1998/Math/MathML\"><msub><mi>H</mi><mi>a</mi></msub><mo>:</mo><msub><mi>μ</mi><mi>d</mi></msub><mo>≠</mo><mn>0</mn></math></span></span><script type=\"math/tex\" id=\"MathJax-Element-3\">H_a: \\mu_d \\ne 0</script></p>\n",
    "\n",
    "\n",
    "- <a href=\"https://youtu.be/Dp8-cC0vld4\">Click to watch a Video</a>"
   ]
  },
  {
   "cell_type": "code",
   "execution_count": null,
   "metadata": {},
   "outputs": [],
   "source": [
    "x = c(98, 100, 95, 90, 90, 92, 80, 78, 88)\n",
    "y = c(94, 98, 98, 88, 89, 91, 84, 80, 88)\n",
    "\n",
    "t.test(x, y, alternative = \"two.sided\", paired=T)"
   ]
  },
  {
   "cell_type": "markdown",
   "metadata": {},
   "source": [
    "- Because p_value > 0.05, we fail to reject the null hypothesis.\n",
    "- So:\n",
    "    - There is not sufficient evidence to state that scores on the two quizzes are different. "
   ]
  },
  {
   "cell_type": "markdown",
   "metadata": {},
   "source": [
    "# 4.2. One-Way Analysis of Variance (ANOVA)\n",
    "\n",
    "- Is used to determine whether there are any statistically significant differences <font color=red><b>between the means of two or more independent (unrelated) groups</b></font> \n",
    "- Mostly being used for a minimum of three and more, rather than two groups\n",
    "<br><br>\n",
    "- <font color=green>Why not to conduct two-by-two t-tests?</font><br>\n",
    "    - <font color=green>in case of having k groups of data, k*(k+1)/2 seperate tests should be done</font><br>\n",
    "    - <font color=green>those conducted seperate independent t-tests would not give you information about the independent variable overall</font><br>\n",
    "    - <font color=green>multiple t tests would lead to a greater chance of making a Type I error</font>\n",
    "\n",
    "\n",
    "- <font color=red><b>Pairwise Comparison:</b></font><br> \n",
    "    - generally is any <b>process of comparing entities in pairs</b> to judge which of each entity \n",
    "        - is preferred, or \n",
    "        - has a greater amount of some quantitative property, or \n",
    "        - whether or not the two entities are identical\n",
    "    - Initial results of statistical tests do not tell us which groups are different from one another. \n",
    "        - In order to determine which groups are different from one another, a <font color=red><b>post-hoc test</b></font> is needed."
   ]
  },
  {
   "cell_type": "markdown",
   "metadata": {
    "collapsed": true
   },
   "source": [
    "### Example:\n",
    "\n",
    "- <font color=blue>A drug company tested three formulations of a pain relief medicine for\n",
    "migraine headache sufferers. For the experiment 27 volunteers were selected\n",
    "and 9 were randomly assigned to one of three drug formulations. The subjects\n",
    "were instructed to take the drug during their next migraine headache episode and\n",
    "to report their pain on a scale of 1 to 10 (10 being most pain).</font>\n",
    "<br>\n",
    "<table border=1><th>Groups</th><th>Collected data</th>\n",
    "<tr><td>Drug A</td><td>4 5 4 3 2 4 3 4 4</td></tr>\n",
    "<tr><td>Drug B</td><td>6 8 4 5 4 6 5 8 6</td></tr>\n",
    "<tr><td>Drug C</td><td>6 7 6 6 7 5 6 5 5</td></tr>\n",
    "</table>\n"
   ]
  },
  {
   "cell_type": "code",
   "execution_count": null,
   "metadata": {},
   "outputs": [],
   "source": [
    "#Preparing data\n",
    "pain = c(4, 5, 4, 3, 2, 4, 3, 4, 4, 6, 8, 4, 5, 4, 6, 5, 8, 6, 6, 7, 6, 6, 7, 5, 6, 5, 5)\n",
    "drug = c(rep(\"A\",9), rep(\"B\",9), rep(\"C\",9))\n",
    "migraine = data.frame(pain, drug)\n",
    "migraine"
   ]
  },
  {
   "cell_type": "code",
   "execution_count": null,
   "metadata": {},
   "outputs": [],
   "source": [
    "# Run the ANOVA\n",
    "results = aov(pain ~ drug, data=migraine)\n",
    "\n",
    "# Show results\n",
    "summary(results)"
   ]
  },
  {
   "cell_type": "markdown",
   "metadata": {},
   "source": [
    "<font color=green>\n",
    "- F-statistic is 11.91 <br>\n",
    "- p-value equal to 0.0003. <br>\n",
    "    - So, We clearly reject the null hypothesis of equal means for all three drug groups.<br>\n",
    "</font>\n",
    "\n",
    "- But we usually needs to compare given groups two-by-two\n",
    "- Then, We can apply:\n",
    "    - <font color=red>Tukey's method</font> or \n",
    "    - <font color=red>pair-wise test with Bonferroni correction</font> "
   ]
  },
  {
   "cell_type": "code",
   "execution_count": null,
   "metadata": {},
   "outputs": [],
   "source": [
    "# To apply Tukey's method \n",
    "TukeyHSD(results, conf.level = 0.95)"
   ]
  },
  {
   "cell_type": "code",
   "execution_count": null,
   "metadata": {},
   "outputs": [],
   "source": [
    "# To apply pair-wise test with Bonferroni correction\n",
    "pairwise.t.test(pain, drug, p.adjust=\"bonferroni\")"
   ]
  },
  {
   "cell_type": "markdown",
   "metadata": {},
   "source": [
    "<font color=green>\n",
    "- These results state that the B-A and C-A differences are significant (p=0.0011 and p=0.00065, respectively)<br>\n",
    "- C-B difference is not significant (p=0.97). <br>\n",
    "- This is confirmed by Bonferroni correction."
   ]
  },
  {
   "cell_type": "code",
   "execution_count": null,
   "metadata": {},
   "outputs": [],
   "source": [
    " plot(pain ~ drug, data=migraine)"
   ]
  },
  {
   "cell_type": "markdown",
   "metadata": {},
   "source": [
    "# 4.3. Chi-Square Test \n",
    "\n",
    "- Is used to investigate whether distributions of categorical variables differ from one another\n",
    "- Is used to see whether the number of observations in each category fits a theoretical expectation\n",
    "- Is used to know if two sets of data are independent\n",
    "- There are different types of Chi-Square test but <font color=red><b>Pearson's chi-squared</b> test is the well-known one</font>."
   ]
  },
  {
   "cell_type": "markdown",
   "metadata": {
    "collapsed": true
   },
   "source": [
    "## Example 1.\n",
    "\n",
    "- <font color=blue>A. A 6-sided dice is thrown 60 times. The number of times it shows 1, 2, 3, 4, 5 and 6 is 3, 6, 7, 7, 13, 24, respectively. Is the dice biased?</font>\n",
    "- <font color=brown>B. What about 9, 8, 12, 11, 11, 9 ?</font>\n",
    "<br><br>\n",
    "\n",
    "- Null Hypothesis: \n",
    "    - There is NOT sufficient evidence to show that the dice is biased."
   ]
  },
  {
   "cell_type": "code",
   "execution_count": null,
   "metadata": {},
   "outputs": [],
   "source": [
    "# Part A\n",
    "x = c(10, 10, 10, 10, 10, 10)\n",
    "y = c(3, 6, 7, 7, 13, 24)\n",
    "d = cbind(x, y)\n",
    "d\n",
    "chisq.test(d, correct = F)"
   ]
  },
  {
   "cell_type": "markdown",
   "metadata": {
    "collapsed": true
   },
   "source": [
    "<font color=green><b>Decision:</b> As p-value < 0.05 we reject the null hypothesis and thus conclude that there is sufficient evidence to show that the dice is biased. </font>"
   ]
  },
  {
   "cell_type": "code",
   "execution_count": null,
   "metadata": {},
   "outputs": [],
   "source": [
    "# Part B\n",
    "\n",
    "x = c(10, 10, 10, 10, 10, 10)\n",
    "y = c(9, 8, 12, 11, 11, 9)\n",
    "d = cbind(x, y)\n",
    "d\n",
    "chisq.test(d, correct = F)"
   ]
  },
  {
   "cell_type": "markdown",
   "metadata": {},
   "source": [
    "<font color=green><b>Decision:</b> As p-value > 0.05 we failed to reject the null hypothesis and thus conclude that there is not sufficient evidence to show that the dice is biased. </font>"
   ]
  },
  {
   "cell_type": "markdown",
   "metadata": {},
   "source": [
    "## Example 2.\n",
    "\n",
    "- <font color=blue>We have investigated 4000 people who like red, brown, pink and blue colors to know if they are Male or Female\n",
    "    Based on this experiment, are Sex and fevorite color independent?</font>\n",
    "<br><br>\n",
    "\n",
    "- Null Hypothesis: \n",
    "    - There is sufficient evidence to show that Sex and favorite color are independent."
   ]
  },
  {
   "cell_type": "code",
   "execution_count": null,
   "metadata": {},
   "outputs": [],
   "source": [
    "red = sample(c(\"M\", \"F\"), 1000, prob=c(0.75, 0.25), replace=TRUE)\n",
    "brown = sample(c(\"M\", \"F\"), 1000, prob=c(0.6, 0.4), replace=TRUE)\n",
    "pink = sample(c(\"M\", \"F\"), 1000, prob=c(0.15, 0.85), replace=TRUE)\n",
    "blue = sample(c(\"M\", \"F\"), 1000, prob=c(0.35, 0.65), replace=TRUE)\n",
    "\n",
    "d=data.frame(Color=\"red\", Sex=\"M\", stringsAsFactors = F)\n",
    "for(sex in red){\n",
    "    d=rbind(d, c(\"red\", sex))\n",
    "}\n",
    "for(sex in brown){\n",
    "    d=rbind(d, c(\"brown\", sex))\n",
    "}\n",
    "for(sex in pink){\n",
    "    d=rbind(d, c(\"pink\", sex))\n",
    "}\n",
    "for(sex in blue){\n",
    "    d=rbind(d, c(\"blue\", sex))\n",
    "}\n",
    "\n",
    "head(d)\n",
    "tail(d)\n",
    "t = table(d)\n",
    "head(t)"
   ]
  },
  {
   "cell_type": "code",
   "execution_count": null,
   "metadata": {},
   "outputs": [],
   "source": [
    "chisq.test(d$Color, d$Sex, correct=FALSE)"
   ]
  },
  {
   "cell_type": "markdown",
   "metadata": {},
   "source": [
    "<font color=green><b>Decision:</b> As p-value < 0.05 we reject the null hypothesis and thus conclude that there is sufficient evidence to show that the Sex and Favorite color are dependent. </font>"
   ]
  },
  {
   "cell_type": "markdown",
   "metadata": {},
   "source": [
    "## Example 3.\n",
    "\n",
    "- <font color=blue>Suppose that x, y and z are three sets of 1000 normal distributed random values. </font>\n",
    "    - <font color=blue>A. Mean and SD are 50 and 3 for x, and 50 and 10 for y. Are x and y of the same distribution?</font>\n",
    "    - <font color=brown>B. Mean and SD are 50 and 3 for x, and 48 and 3 for z. Are x and z of the same distribution?</font>\n",
    "<br><br>\n",
    "\n",
    "- Null Hypothesis: \n",
    "    - For A. x and y are not of the same distribution.\n",
    "    - For B. x and z are not of the same distribution."
   ]
  },
  {
   "cell_type": "code",
   "execution_count": null,
   "metadata": {},
   "outputs": [],
   "source": [
    "x = rnorm(1000, 50, 3)\n",
    "y = rnorm(1000, 50, 10)\n",
    "z = rnorm(1000, 48, 3)\n",
    "\n",
    "dA = cbind(x, y)\n",
    "head(dA)\n",
    "chisq.test(dA)"
   ]
  },
  {
   "cell_type": "markdown",
   "metadata": {},
   "source": [
    "<font color=green><b>Decision for A:</b> As p-value < 0.05, we conclude that x and y are of the same distributiont. </font>"
   ]
  },
  {
   "cell_type": "code",
   "execution_count": null,
   "metadata": {},
   "outputs": [],
   "source": [
    "dB = cbind(x, z)\n",
    "head(dB)\n",
    "chisq.test(dB)"
   ]
  },
  {
   "cell_type": "markdown",
   "metadata": {},
   "source": [
    "<font color=green><b>Decision for B:</b> As p-value > 0.05, we conclude that x and z are NOT of the same distributiont. </font>"
   ]
  },
  {
   "cell_type": "markdown",
   "metadata": {},
   "source": [
    "=======================================================================================================================\n",
    "# 5. Regression\n",
    "\n",
    "- Is a statistical process to estimate the relationships between a dependent variable (mostly y) and one or more independent variables (known as predictors).\n",
    "- It helps us to know how value of the dependent variable changes when any of the independent variables is changed, assuming that the other independent variables are fixed.\n",
    "- Types of regression:\n",
    "    - Linear Regression\n",
    "    - Logistic Regression\n",
    "    - Polynomial Regression\n",
    "    - ...\n",
    "    \n",
    "- A regression model relates Y to a function of X and β, in which X is the set of predictors and  is the set of coefficients.\n",
    "\\begin{equation*}\n",
    "{\\displaystyle Y\\approx f(\\mathbf {X} ,{\\boldsymbol {\\beta }})}\n",
    "\\end{equation*}"
   ]
  },
  {
   "cell_type": "markdown",
   "metadata": {},
   "source": [
    "# 5.1. Linear Regression\n",
    "\n",
    "-  Is a statistical approach to model the relationship between a <b>scalar dependent variable</b> and <b>one or more explanatory variables</b>. \n",
    "    - If only one explanatory variable is used, the model is called <b>simple linear regression</b>. \n",
    "    - If more than one explanatory variable are applied, the model is called <b>multiple linear regression</b>.\n",
    "- Is suitable for:\n",
    "    - prediction\n",
    "    - forecasting \n",
    "    - error reduction\n",
    "    \n",
    "<table border=1>\n",
    "<tr><td>Linear Regression</td><td><img src=\"linear_regression.png\" height=\"300\" width=\"400\"></td></tr>\n",
    "</table>\n",
    "\n",
    "## 5.1.1 <font color = red>lm() function</font>\n",
    "\n",
    "- <font color = red>lm()</font> from stats package is an R function fitting linear regression models.\n",
    "- <b> lm(formula, data, ...)</b> to call the function\n",
    "\n",
    "### Example 1\n",
    "- For mtcars dataset fit a linear model to obtain hp of cars."
   ]
  },
  {
   "cell_type": "code",
   "execution_count": null,
   "metadata": {},
   "outputs": [],
   "source": [
    "# TRY 1\n",
    "\n",
    "fit1 = lm(hp ~ ., data = mtcars) # here . means all available attributes should be used in the model\n",
    "summary(fit1)"
   ]
  },
  {
   "cell_type": "markdown",
   "metadata": {},
   "source": [
    "- Looking at the coefficients Only disp and carb looks strong enough to be used.\n",
    "- <font color = red> It is not a good methology to let the function decide on the importance of attributes.</font>\n",
    "- We need \n",
    "    - To study the data and get familiar with the relationships and likely patterns among attributes\n",
    "    - A reliable methodology to find a preliminary list of attributes.\n",
    "\n",
    "- CORRELATON value is of the best ways to do so.\n",
    "- <font color = blue> cor() </font> function provides correlation values of numeric attributes"
   ]
  },
  {
   "cell_type": "code",
   "execution_count": null,
   "metadata": {},
   "outputs": [],
   "source": [
    "cor(mtcars)"
   ]
  },
  {
   "cell_type": "code",
   "execution_count": null,
   "metadata": {},
   "outputs": [],
   "source": [
    "# Try 2\n",
    "\n",
    "fit2 = lm(hp ~ cyl + gear + disp + carb, data= mtcars)\n",
    "summary(fit2)"
   ]
  },
  {
   "cell_type": "code",
   "execution_count": null,
   "metadata": {},
   "outputs": [],
   "source": [
    "# Try 3\n",
    "\n",
    "cor(mtcars[c(1, 2, 3, 7, 8,11, 4)])\n",
    "\n",
    "fit3 = lm(hp ~ cyl + qsec + carb, data = mtcars)\n",
    "summary(fit3)"
   ]
  },
  {
   "cell_type": "code",
   "execution_count": null,
   "metadata": {},
   "outputs": [],
   "source": [
    "# Try 4\n",
    "\n",
    "fit4 = lm(hp ~ cyl + carb , data = mtcars)\n",
    "summary(fit4)"
   ]
  },
  {
   "cell_type": "markdown",
   "metadata": {},
   "source": [
    "## 5.1.2. Model Evaluation\n",
    "\n",
    "- To evaluate the model <font color=red> predict()</font> can be used.\n",
    "- predict(model object, ...)"
   ]
  },
  {
   "cell_type": "code",
   "execution_count": null,
   "metadata": {},
   "outputs": [],
   "source": [
    "predict(fit4)"
   ]
  },
  {
   "cell_type": "code",
   "execution_count": null,
   "metadata": {},
   "outputs": [],
   "source": [
    "cbind(orig=mtcars$hp, fit4=predict(fit4), fit2=predict(fit2))"
   ]
  },
  {
   "cell_type": "markdown",
   "metadata": {},
   "source": [
    "### Standard Error\n",
    "\n",
    "- The standard error (SE) of a statistic (most commonly the mean) is the standard deviation of its sampling distribution, or sometimes an estimate of that standard deviation [wikipedia].\n",
    "- The standard error of the mean (SEM) is the standard deviation of the sample mean.\n",
    "- SEM is usually estimated by the sample estimate of the population standard deviation divided by the square root of the sample size\n",
    "<font color=red>\n",
    "\\begin{equation*}\n",
    "    SE_ \\bar x\\ ={\\frac {s}{\\sqrt {n}}}\n",
    "\\end{equation*}\n",
    "</font>\n",
    "where\n",
    "- <font color=red>s</font> is the sample standard deviation (i.e., the sample-based estimate of the standard deviation of the population), \n",
    "- <font color=red>n</font> is the size (number of observations) of the sample.\n"
   ]
  },
  {
   "cell_type": "code",
   "execution_count": null,
   "metadata": {},
   "outputs": [],
   "source": [
    "predict(fit4, se.fit = T)"
   ]
  },
  {
   "cell_type": "code",
   "execution_count": null,
   "metadata": {},
   "outputs": [],
   "source": [
    "fit2res = predict(fit2, se.fit = T)\n",
    "fit4res = predict(fit4, se.fit = T)\n",
    "\n",
    "tot = data.frame(orig=mtcars$hp, fit4res=fit4res$fit, fit4se=fit4res$se.fit, fit2res=fit2res$fit, fit2se=fit2res$se.fit)\n",
    "tot"
   ]
  },
  {
   "cell_type": "code",
   "execution_count": null,
   "metadata": {},
   "outputs": [],
   "source": [
    "cbind(fit2_mean_se = mean(tot$fit2se),fit4_mean_se = mean(tot$fit4se))"
   ]
  },
  {
   "cell_type": "markdown",
   "metadata": {},
   "source": [
    "\n",
    "### Exercise 1\n",
    "- For Kuala Lumpur dataset fit a linear model to obtain tempC of KL."
   ]
  },
  {
   "cell_type": "code",
   "execution_count": null,
   "metadata": {},
   "outputs": [],
   "source": [
    "# To read data\n",
    "klw = read.csv(\"C:/Users/user_adax/Desktop/Kuala Lumpur-Weather.csv\")\n",
    "head(klw, 3)\n",
    "\n",
    "#cor(klw[is.numeric(klw)])\n",
    "tmp = c()\n",
    "for(col in colnames(klw)){\n",
    "    tmp = c(tmp, is.numeric(klw[[col]]))\n",
    "}\n",
    "cor(klw[tmp])[, 3]"
   ]
  },
  {
   "cell_type": "code",
   "execution_count": null,
   "metadata": {},
   "outputs": [],
   "source": [
    "fit1 = lm(tempC ~ humidity + windspeedMiles + time, data = klw)\n",
    "est1 = predict(fit1, klw[1:1000,], se.fit = T)\n",
    "est1_res = cbind(estimated_tempC = est1$fit, real_tempC = klw[1:1000,]$tempC, std_err = est1$se.fit)\n",
    "head(est1_res, 10)\n",
    "tail(est1_res, 10)\n",
    "round(mean(est1_res[, 3], na.rm = T), 4)"
   ]
  },
  {
   "cell_type": "code",
   "execution_count": null,
   "metadata": {},
   "outputs": [],
   "source": [
    "est1 = predict(fit1, klw, se.fit = T)\n",
    "est1_res = cbind(estimated_tempC = est1$fit, real_tempC = klw$tempC, std_err = est1$se.fit)\n",
    "head(est1_res, 10)\n",
    "tail(est1_res, 10)\n",
    "round(mean(est1_res[, 3], na.rm = T), 4)"
   ]
  },
  {
   "cell_type": "markdown",
   "metadata": {},
   "source": [
    "## 5.1.3. Dummy Variables\n",
    "\n",
    "- In statistics and econometrics, particularly in regression analysis, \n",
    "- A dummy variable is one that takes the value 0 or 1 to indicate the absence or presence of some categorical effect that may be expected to shift the outcome.\n",
    "- Dummy variables are used as devices to sort data into mutually exclusive categories[wikipedia].\n",
    "\n",
    "\n",
    "- Other names:\n",
    "    - indicator variable \n",
    "    - design variable\n",
    "    - Boolean indicator\n",
    "    - categorical variable \n",
    "    - binary variable\n",
    "    - qualitative variable \n",
    "\n",
    "### - Example\n",
    "\n",
    "<table>\n",
    "<thead><tr><th scope=\"col\">cust_type</th></tr></thead>\n",
    "<tbody>\n",
    "\t<tr><td>Good    </td></tr>\n",
    "\t<tr><td>Bad     </td></tr>\n",
    "\t<tr><td>Good    </td></tr>\n",
    "\t<tr><td>Not Sure</td></tr>\n",
    "\t<tr><td>Not Sure</td></tr>\n",
    "\t<tr><td>Bad     </td></tr>\n",
    "\t<tr><td>Bad     </td></tr>\n",
    "\t<tr><td>Not Sure</td></tr>\n",
    "\t<tr><td>Good    </td></tr>\n",
    "\t<tr><td>Bad     </td></tr>\n",
    "</tbody>\n",
    "</table>\n",
    "\n",
    "<table>\n",
    "<thead><tr><th scope=\"col\">cust_type</th><th scope=\"col\">Bads</th><th scope=\"col\">Goods</th><th scope=\"col\">NotSures</th></tr></thead>\n",
    "<tbody>\n",
    "\t<tr><td>Good    </td><td>0       </td><td>1       </td><td>0       </td></tr>\n",
    "\t<tr><td>Bad     </td><td>1       </td><td>0       </td><td>0       </td></tr>\n",
    "\t<tr><td>Good    </td><td>0       </td><td>1       </td><td>0       </td></tr>\n",
    "\t<tr><td>Not Sure</td><td>0       </td><td>0       </td><td>1       </td></tr>\n",
    "\t<tr><td>Not Sure</td><td>0       </td><td>0       </td><td>1       </td></tr>\n",
    "\t<tr><td>Bad     </td><td>1       </td><td>0       </td><td>0       </td></tr>\n",
    "\t<tr><td>Bad     </td><td>1       </td><td>0       </td><td>0       </td></tr>\n",
    "\t<tr><td>Not Sure</td><td>0       </td><td>0       </td><td>1       </td></tr>\n",
    "\t<tr><td>Good    </td><td>0       </td><td>1       </td><td>0       </td></tr>\n",
    "\t<tr><td>Bad     </td><td>1       </td><td>0       </td><td>0       </td></tr>\n",
    "</tbody>\n",
    "</table>"
   ]
  },
  {
   "cell_type": "code",
   "execution_count": null,
   "metadata": {},
   "outputs": [],
   "source": [
    "library(dummies)\n",
    "\n",
    "cust_type = c(\"Good\", \"Bad\", \"Good\", \"Not Sure\", \"Not Sure\", \"Bad\", \"Bad\", \"Not Sure\", \"Good\", \"Bad\")\n",
    "cust_type"
   ]
  },
  {
   "cell_type": "code",
   "execution_count": null,
   "metadata": {},
   "outputs": [],
   "source": [
    "#install.packages('dummies', repos = \"https://cloud.r-project.org\")\n",
    "library(dummies)\n",
    "\n",
    "dumm = dummy(cust_type)\n",
    "colnames(dumm) = c(\"Bads\", \"Goods\", \"NotSures\")\n",
    "cbind(cust_type, dumm)"
   ]
  },
  {
   "cell_type": "markdown",
   "metadata": {},
   "source": []
  },
  {
   "cell_type": "code",
   "execution_count": null,
   "metadata": {},
   "outputs": [],
   "source": [
    "dumname = c(\"wdd1\", \"wdd2\", \"wdd3\", \"wdd4\", \"wdd5\", \"wdd6\", \"wdd7\", \"wdd8\")\n",
    "klw = cbind(klw, dummy(ceiling(klw$winddirDegree/45)))\n",
    "ncol(klw)\n",
    "colnames(klw)[26:33] = dumname\n",
    "head(klw, 3)"
   ]
  },
  {
   "cell_type": "code",
   "execution_count": null,
   "metadata": {},
   "outputs": [],
   "source": [
    "fit2 = lm(tempC ~ humidity + windspeedMiles + time + wdd1 + wdd2 + wdd3 + wdd4 + wdd5 + wdd6 + wdd7, data = klw)\n",
    "summary(fit2)"
   ]
  },
  {
   "cell_type": "code",
   "execution_count": null,
   "metadata": {},
   "outputs": [],
   "source": [
    "est2 = predict(fit2, klw, se.fit = T)\n",
    "est2_res = cbind(estimated_tempC = est2$fit, real_tempC = klw$tempC, std_err = est2$se.fit)\n",
    "head(est2_res, 10)\n",
    "tail(est2_res, 10)\n",
    "round(mean(est2_res[, 3], na.rm = T), 4)"
   ]
  },
  {
   "cell_type": "markdown",
   "metadata": {},
   "source": [
    "\n",
    "## 5.2. Logistic Regression\n",
    "\n",
    "- <font color=red><b>Logistic regression</b></font> is a popular method <b>to predict a categorical response</b>.<br>\n",
    "- It predicts the probability of the outcomes.<br>\n",
    "\n",
    "\n",
    "- Logistic regression can be used to predict a <br>\n",
    "    - <font color=red>Binary outcome</font> by using <b>binomial logistic regression</b>, or<br>\n",
    "    \n",
    "    <img src=\"LogisticRegression.jpg\" height=\"400\" width=\"400\"><br>\n",
    "    \n",
    "\n",
    "- <font color=red>Multiclass outcome</font> by using <b>multinomial logistic regression</b>.\n",
    "    \n",
    "    <img src=\"MultinomialLogisticRegression.png\" height=\"400\" width=\"400\"><br>\n",
    "    \n",
    "\n",
    "## 5.2.1 <font color = red>glm() function</font>\n",
    "\n",
    "- <font color = red>glm()</font> from stats package is an R function fitting generalized linear regression models.\n",
    "- <b> glm(formula, family, data, ...)</b> to call the function\n",
    "\n",
    "### Example 1\n",
    "- For loan dataset fit a logistic regression model to predict customers application result."
   ]
  },
  {
   "cell_type": "code",
   "execution_count": null,
   "metadata": {},
   "outputs": [],
   "source": [
    "cdata = read.csv(\"C:/Users/user_adax/Desktop/DataSets/loan_data_track1.csv\")\n",
    "head(cdata)\n"
   ]
  },
  {
   "cell_type": "code",
   "execution_count": null,
   "metadata": {},
   "outputs": [],
   "source": [
    "summary(cdata)"
   ]
  },
  {
   "cell_type": "code",
   "execution_count": null,
   "metadata": {},
   "outputs": [],
   "source": [
    "cor(cdata[sapply(cdata, FUN=is.numeric)])"
   ]
  },
  {
   "cell_type": "code",
   "execution_count": null,
   "metadata": {},
   "outputs": [],
   "source": [
    "fit1 = glm(accepted ~ age + duration + checking_status + \n",
    "           loan_amount + installment_commitment, \n",
    "           data=cdata, family=binomial())\n",
    "summary(fit1)"
   ]
  },
  {
   "cell_type": "code",
   "execution_count": null,
   "metadata": {},
   "outputs": [],
   "source": [
    "cdata[cdata$accepted == 1,]$accepted = 0\n",
    "cdata[cdata$accepted == 2,]$accepted = 1\n",
    "head(cdata)"
   ]
  },
  {
   "cell_type": "code",
   "execution_count": null,
   "metadata": {},
   "outputs": [],
   "source": [
    "fit1 = glm(accepted ~ age + duration + checking_status + \n",
    "           loan_amount + installment_commitment, \n",
    "           data=cdata, family=binomial())\n",
    "summary(fit1)"
   ]
  },
  {
   "cell_type": "code",
   "execution_count": null,
   "metadata": {},
   "outputs": [],
   "source": [
    "glmres1 = predict(fit1, data = cdata)\n",
    "head(glmres1)"
   ]
  },
  {
   "cell_type": "code",
   "execution_count": null,
   "metadata": {},
   "outputs": [],
   "source": [
    "glmres2 = predict(fit1, data = cdata, type = \"response\")\n",
    "head(glmres2)"
   ]
  },
  {
   "cell_type": "code",
   "execution_count": null,
   "metadata": {},
   "outputs": [],
   "source": [
    "glmres2_eval = cbind(real_accepted_val = cdata$accepted, probability = glmres2)\n",
    "head(glmres2_eval)"
   ]
  },
  {
   "cell_type": "code",
   "execution_count": null,
   "metadata": {},
   "outputs": [],
   "source": [
    "n = nrow(glmres2_eval)\n",
    "n\n",
    "glmres2_eval = cbind( glmres2_eval, rep(FALSE, n))\n"
   ]
  },
  {
   "cell_type": "code",
   "execution_count": null,
   "metadata": {},
   "outputs": [],
   "source": [
    "glmres2_eval[,3] = ifelse(glmres2 > 0.5, 1, 0)\n",
    "colnames(glmres2_eval)[3] = \"prediction\""
   ]
  },
  {
   "cell_type": "code",
   "execution_count": null,
   "metadata": {},
   "outputs": [],
   "source": [
    "head(glmres2_eval)"
   ]
  },
  {
   "cell_type": "markdown",
   "metadata": {},
   "source": [
    "### <font color=red>How to evaluate the model?</font>\n",
    "\n",
    "- <a href=\"https://en.wikipedia.org/wiki/Confusion_matrix\">Confusion Matrix and more</a>"
   ]
  },
  {
   "cell_type": "code",
   "execution_count": null,
   "metadata": {},
   "outputs": [],
   "source": [
    "correct = nrow(glmres2_eval[glmres2_eval[,1] == glmres2_eval[,3],])\n",
    "wrong = nrow(glmres2_eval) - correct\n",
    "\n",
    "correct\n",
    "wrong"
   ]
  },
  {
   "cell_type": "code",
   "execution_count": null,
   "metadata": {},
   "outputs": [],
   "source": [
    "#Accuracy\n",
    "correct / (correct+wrong) * 100"
   ]
  },
  {
   "cell_type": "code",
   "execution_count": null,
   "metadata": {},
   "outputs": [],
   "source": [
    "table(glmres2_eval[,3])"
   ]
  },
  {
   "cell_type": "code",
   "execution_count": null,
   "metadata": {},
   "outputs": [],
   "source": [
    "TP = nrow(glmres2_eval[glmres2_eval[,1] == 1 & glmres2_eval[,3]==1,])\n",
    "TP"
   ]
  },
  {
   "cell_type": "code",
   "execution_count": null,
   "metadata": {},
   "outputs": [],
   "source": [
    "TN = nrow(glmres2_eval[glmres2_eval[,1] == 0 & glmres2_eval[,3]==0,])\n",
    "TN"
   ]
  },
  {
   "cell_type": "code",
   "execution_count": null,
   "metadata": {},
   "outputs": [],
   "source": [
    "FP = nrow(glmres2_eval[glmres2_eval[,1] == 0 & glmres2_eval[,3]==1,])\n",
    "FP"
   ]
  },
  {
   "cell_type": "code",
   "execution_count": null,
   "metadata": {},
   "outputs": [],
   "source": [
    "FN = nrow(glmres2_eval[glmres2_eval[,1] == 1 & glmres2_eval[,3]==0,])\n",
    "FN"
   ]
  },
  {
   "cell_type": "code",
   "execution_count": null,
   "metadata": {},
   "outputs": [],
   "source": [
    "cdata_1 = cdata[cdata$accepted == 1,]\n",
    "cdata_0 = cdata[cdata$accepted == 0,]\n",
    "nrow(cdata_1)\n",
    "nrow(cdata_0)"
   ]
  },
  {
   "cell_type": "code",
   "execution_count": null,
   "metadata": {},
   "outputs": [],
   "source": [
    "cdata_1_tr_ind = sample(seq_len(700), size = ceiling(0.7 * 700), replace = F)\n",
    "head(cdata_1_tr_ind)\n"
   ]
  },
  {
   "cell_type": "code",
   "execution_count": null,
   "metadata": {},
   "outputs": [],
   "source": [
    "cdata_1_tr <- cdata_1[cdata_1_tr_ind, ]\n",
    "cdata_1_ts <- cdata_1[-cdata_1_tr_ind, ]\n",
    "\n",
    "nrow(cdata_1_tr)\n",
    "nrow(cdata_1_ts)"
   ]
  },
  {
   "cell_type": "code",
   "execution_count": null,
   "metadata": {},
   "outputs": [],
   "source": [
    "cdata_0_tr_ind = sample(seq_len(300), size = 0.7 * 300, replace = F)\n",
    "\n",
    "cdata_0_tr <- cdata_0[cdata_0_tr_ind, ]\n",
    "cdata_0_ts <- cdata_0[-cdata_0_tr_ind, ]\n",
    "\n",
    "nrow(cdata_0_tr)\n",
    "nrow(cdata_0_ts)"
   ]
  },
  {
   "cell_type": "code",
   "execution_count": null,
   "metadata": {},
   "outputs": [],
   "source": [
    "cdata_train = rbind(cdata_1_tr, cdata_0_tr)\n",
    "cdata_test = rbind(cdata_1_ts, cdata_0_ts)\n",
    "\n",
    "nrow(cdata_train)\n",
    "nrow(cdata_test)"
   ]
  },
  {
   "cell_type": "code",
   "execution_count": null,
   "metadata": {},
   "outputs": [],
   "source": [
    "fit1 = glm(accepted ~ age + duration + checking_status + \n",
    "           loan_amount + installment_commitment, \n",
    "           data=cdata_train, family=binomial())\n",
    "summary(fit1)"
   ]
  },
  {
   "cell_type": "markdown",
   "metadata": {},
   "source": [
    "### </font color = red>How to test a model on a test set?</font>\n",
    "\n",
    "- pass the test set to <b><I>newdata</b></I> parameter"
   ]
  },
  {
   "cell_type": "code",
   "execution_count": null,
   "metadata": {},
   "outputs": [],
   "source": [
    "glmres2 = predict(fit1, newdata = cdata_test, type = \"response\")\n",
    "head(glmres2)"
   ]
  },
  {
   "cell_type": "code",
   "execution_count": null,
   "metadata": {},
   "outputs": [],
   "source": [
    "length(glmres2)"
   ]
  },
  {
   "cell_type": "code",
   "execution_count": null,
   "metadata": {},
   "outputs": [],
   "source": [
    "glmres2_eval = cbind(real_accepted_val = cdata_test$accepted, probability = glmres2)\n",
    "n = nrow(glmres2_eval)\n",
    "glmres2_eval = cbind(glmres2_eval, rep(FALSE, n))\n",
    "\n",
    "glmres2_eval[,3] = ifelse(glmres2 > 0.5, 1, 0)\n",
    "colnames(glmres2_eval)[3] = \"prediction\"\n",
    "\n",
    "head(glmres2_eval)"
   ]
  },
  {
   "cell_type": "code",
   "execution_count": null,
   "metadata": {},
   "outputs": [],
   "source": [
    "correct = nrow(glmres2_eval[glmres2_eval[,1] == glmres2_eval[,3],])\n",
    "wrong = nrow(glmres2_eval) - correct\n",
    "\n",
    "correct\n",
    "wrong\n",
    "\n",
    "#Accuracy\n",
    "paste(\"accuracy is: \", correct / (correct + wrong) * 100, \"%\")"
   ]
  },
  {
   "cell_type": "code",
   "execution_count": null,
   "metadata": {},
   "outputs": [],
   "source": []
  }
 ],
 "metadata": {
  "kernelspec": {
   "display_name": "R",
   "language": "R",
   "name": "ir"
  },
  "language_info": {
   "codemirror_mode": "r",
   "file_extension": ".r",
   "mimetype": "text/x-r-source",
   "name": "R",
   "pygments_lexer": "r",
   "version": "3.4.3"
  }
 },
 "nbformat": 4,
 "nbformat_minor": 2
}
